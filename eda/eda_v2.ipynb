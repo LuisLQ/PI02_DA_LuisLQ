{
 "cells": [
  {
   "cell_type": "code",
   "execution_count": 1,
   "metadata": {},
   "outputs": [],
   "source": [
    "import pandas as pd\n",
    "import numpy as np\n",
    "import seaborn as sns\n",
    "import matplotlib.pyplot as plt"
   ]
  },
  {
   "cell_type": "markdown",
   "metadata": {},
   "source": [
    "## Lectura y preparación de los datasets ##  \n",
    "La preparación consiste en crear una columna numérica 'AñoTrim' para representar el Año y Trimestre de forma conveniente\n"
   ]
  },
  {
   "cell_type": "markdown",
   "metadata": {},
   "source": [
    "### df01  \n",
    "* Recurso: PENET-DE-INTER-FIJO-57760  \n",
    "* Archivo: 01_intPenetracion_xProv.csv  \n",
    "* Descripción: Penetración de Internet fijo (accesos por cada 100 hogares)  \n",
    "* Detalle: Número de accesos al servicio de Internet fijo por cada 100 hogares por provincia  \n"
   ]
  },
  {
   "cell_type": "code",
   "execution_count": 2,
   "metadata": {},
   "outputs": [],
   "source": [
    "df01 = pd.read_csv('../dataset/01_intPenetracion_xProv.csv', decimal=',', thousands='.')"
   ]
  },
  {
   "cell_type": "code",
   "execution_count": 3,
   "metadata": {},
   "outputs": [
    {
     "name": "stdout",
     "output_type": "stream",
     "text": [
      "<class 'pandas.core.frame.DataFrame'>\n",
      "RangeIndex: 840 entries, 0 to 839\n",
      "Data columns (total 5 columns):\n",
      " #   Column                        Non-Null Count  Dtype  \n",
      "---  ------                        --------------  -----  \n",
      " 0   Año                           840 non-null    int64  \n",
      " 1   Trimestre                     840 non-null    int64  \n",
      " 2   Provincia                     840 non-null    object \n",
      " 3   Accesos por cada 100 hogares  840 non-null    float64\n",
      " 4   AñoTrim                       840 non-null    int64  \n",
      "dtypes: float64(1), int64(3), object(1)\n",
      "memory usage: 32.9+ KB\n"
     ]
    }
   ],
   "source": [
    "df01['AñoTrim'] = df01['Año'] * 10 + df01['Trimestre']\n",
    "df01.info()"
   ]
  },
  {
   "cell_type": "code",
   "execution_count": 4,
   "metadata": {},
   "outputs": [
    {
     "data": {
      "text/html": [
       "<div>\n",
       "<style scoped>\n",
       "    .dataframe tbody tr th:only-of-type {\n",
       "        vertical-align: middle;\n",
       "    }\n",
       "\n",
       "    .dataframe tbody tr th {\n",
       "        vertical-align: top;\n",
       "    }\n",
       "\n",
       "    .dataframe thead th {\n",
       "        text-align: right;\n",
       "    }\n",
       "</style>\n",
       "<table border=\"1\" class=\"dataframe\">\n",
       "  <thead>\n",
       "    <tr style=\"text-align: right;\">\n",
       "      <th></th>\n",
       "      <th>Año</th>\n",
       "      <th>Trimestre</th>\n",
       "      <th>Provincia</th>\n",
       "      <th>Accesos por cada 100 hogares</th>\n",
       "      <th>AñoTrim</th>\n",
       "    </tr>\n",
       "  </thead>\n",
       "  <tbody>\n",
       "    <tr>\n",
       "      <th>0</th>\n",
       "      <td>2022</td>\n",
       "      <td>3</td>\n",
       "      <td>Buenos Aires</td>\n",
       "      <td>78.11</td>\n",
       "      <td>20223</td>\n",
       "    </tr>\n",
       "    <tr>\n",
       "      <th>1</th>\n",
       "      <td>2022</td>\n",
       "      <td>3</td>\n",
       "      <td>Capital Federal</td>\n",
       "      <td>122.28</td>\n",
       "      <td>20223</td>\n",
       "    </tr>\n",
       "    <tr>\n",
       "      <th>2</th>\n",
       "      <td>2022</td>\n",
       "      <td>3</td>\n",
       "      <td>Catamarca</td>\n",
       "      <td>65.33</td>\n",
       "      <td>20223</td>\n",
       "    </tr>\n",
       "    <tr>\n",
       "      <th>3</th>\n",
       "      <td>2022</td>\n",
       "      <td>3</td>\n",
       "      <td>Chaco</td>\n",
       "      <td>43.86</td>\n",
       "      <td>20223</td>\n",
       "    </tr>\n",
       "    <tr>\n",
       "      <th>4</th>\n",
       "      <td>2022</td>\n",
       "      <td>3</td>\n",
       "      <td>Chubut</td>\n",
       "      <td>84.38</td>\n",
       "      <td>20223</td>\n",
       "    </tr>\n",
       "  </tbody>\n",
       "</table>\n",
       "</div>"
      ],
      "text/plain": [
       "    Año  Trimestre        Provincia  Accesos por cada 100 hogares  AñoTrim\n",
       "0  2022          3     Buenos Aires                         78.11    20223\n",
       "1  2022          3  Capital Federal                        122.28    20223\n",
       "2  2022          3        Catamarca                         65.33    20223\n",
       "3  2022          3            Chaco                         43.86    20223\n",
       "4  2022          3           Chubut                         84.38    20223"
      ]
     },
     "execution_count": 4,
     "metadata": {},
     "output_type": "execute_result"
    }
   ],
   "source": [
    "df01.head()"
   ]
  },
  {
   "cell_type": "code",
   "execution_count": 5,
   "metadata": {},
   "outputs": [
    {
     "data": {
      "image/png": "[encoded data removed]",
      "text/plain": [
       "<Figure size 640x480 with 1 Axes>"
      ]
     },
     "metadata": {},
     "output_type": "display_data"
    }
   ],
   "source": [
    "# Crear el gráfico de barras verticales\n",
    "ax = sns.barplot(x='AñoTrim', y='Accesos por cada 100 hogares', data=df01)\n",
    "\n",
    "# Agregar etiquetas a los valores\n",
    "for p in ax.patches:\n",
    "    ax.annotate(format(p.get_height(), '.1f'),\n",
    "                (p.get_x() + p.get_width() / 2, p.get_height()),\n",
    "                ha='center', va='bottom')\n",
    "\n",
    "# Mostrar el gráfico\n",
    "plt.show()"
   ]
  },
  {
   "cell_type": "markdown",
   "metadata": {},
   "source": [
    "### df02  \n",
    "* Recurso: PENET-POR-HOGAR-NACIO-DEL  \n",
    "* Archivo: 02_intFijo_pentracion.csv  \n",
    "* Descripción: Penetración por hogares nacional de Internet fijo  \n",
    "* Detalle: Serie trimestral de la penetración del Internet fijo en la métrica por cada 100 hogares  "
   ]
  },
  {
   "cell_type": "code",
   "execution_count": 6,
   "metadata": {},
   "outputs": [],
   "source": [
    "df02 = pd.read_csv('../dataset/02_intFijo_penetracion.csv', decimal=',', thousands='.')"
   ]
  },
  {
   "cell_type": "code",
   "execution_count": 7,
   "metadata": {},
   "outputs": [
    {
     "name": "stdout",
     "output_type": "stream",
     "text": [
      "<class 'pandas.core.frame.DataFrame'>\n",
      "RangeIndex: 35 entries, 0 to 34\n",
      "Data columns (total 6 columns):\n",
      " #   Column                        Non-Null Count  Dtype  \n",
      "---  ------                        --------------  -----  \n",
      " 0   Año                           35 non-null     int64  \n",
      " 1   Trimestre                     35 non-null     int64  \n",
      " 2   Accesos por cada 100 hogares  35 non-null     float64\n",
      " 3   Accesos por cada 100 hab      35 non-null     float64\n",
      " 4   Periodo                       35 non-null     object \n",
      " 5   AñoTrim                       35 non-null     int64  \n",
      "dtypes: float64(2), int64(3), object(1)\n",
      "memory usage: 1.8+ KB\n"
     ]
    }
   ],
   "source": [
    "df02['AñoTrim'] = df02['Año'] * 10 + df02['Trimestre']\n",
    "df02.info()"
   ]
  },
  {
   "cell_type": "code",
   "execution_count": 8,
   "metadata": {},
   "outputs": [
    {
     "data": {
      "text/html": [
       "<div>\n",
       "<style scoped>\n",
       "    .dataframe tbody tr th:only-of-type {\n",
       "        vertical-align: middle;\n",
       "    }\n",
       "\n",
       "    .dataframe tbody tr th {\n",
       "        vertical-align: top;\n",
       "    }\n",
       "\n",
       "    .dataframe thead th {\n",
       "        text-align: right;\n",
       "    }\n",
       "</style>\n",
       "<table border=\"1\" class=\"dataframe\">\n",
       "  <thead>\n",
       "    <tr style=\"text-align: right;\">\n",
       "      <th></th>\n",
       "      <th>Año</th>\n",
       "      <th>Trimestre</th>\n",
       "      <th>Accesos por cada 100 hogares</th>\n",
       "      <th>Accesos por cada 100 hab</th>\n",
       "      <th>Periodo</th>\n",
       "      <th>AñoTrim</th>\n",
       "    </tr>\n",
       "  </thead>\n",
       "  <tbody>\n",
       "    <tr>\n",
       "      <th>0</th>\n",
       "      <td>2022</td>\n",
       "      <td>3</td>\n",
       "      <td>76.64</td>\n",
       "      <td>23.95</td>\n",
       "      <td>Jul-Sept 2022</td>\n",
       "      <td>20223</td>\n",
       "    </tr>\n",
       "    <tr>\n",
       "      <th>1</th>\n",
       "      <td>2022</td>\n",
       "      <td>2</td>\n",
       "      <td>75.97</td>\n",
       "      <td>23.72</td>\n",
       "      <td>Abr-Jun 2022</td>\n",
       "      <td>20222</td>\n",
       "    </tr>\n",
       "    <tr>\n",
       "      <th>2</th>\n",
       "      <td>2022</td>\n",
       "      <td>1</td>\n",
       "      <td>73.88</td>\n",
       "      <td>23.05</td>\n",
       "      <td>Ene-Mar 2022</td>\n",
       "      <td>20221</td>\n",
       "    </tr>\n",
       "    <tr>\n",
       "      <th>3</th>\n",
       "      <td>2021</td>\n",
       "      <td>4</td>\n",
       "      <td>73.18</td>\n",
       "      <td>22.81</td>\n",
       "      <td>Oct-Dic 2021</td>\n",
       "      <td>20214</td>\n",
       "    </tr>\n",
       "    <tr>\n",
       "      <th>4</th>\n",
       "      <td>2021</td>\n",
       "      <td>3</td>\n",
       "      <td>70.58</td>\n",
       "      <td>21.98</td>\n",
       "      <td>Jul-Sept 2021</td>\n",
       "      <td>20213</td>\n",
       "    </tr>\n",
       "  </tbody>\n",
       "</table>\n",
       "</div>"
      ],
      "text/plain": [
       "    Año  Trimestre  Accesos por cada 100 hogares  Accesos por cada 100 hab   \n",
       "0  2022          3                         76.64                     23.95  \\\n",
       "1  2022          2                         75.97                     23.72   \n",
       "2  2022          1                         73.88                     23.05   \n",
       "3  2021          4                         73.18                     22.81   \n",
       "4  2021          3                         70.58                     21.98   \n",
       "\n",
       "         Periodo  AñoTrim  \n",
       "0  Jul-Sept 2022    20223  \n",
       "1   Abr-Jun 2022    20222  \n",
       "2   Ene-Mar 2022    20221  \n",
       "3   Oct-Dic 2021    20214  \n",
       "4  Jul-Sept 2021    20213  "
      ]
     },
     "execution_count": 8,
     "metadata": {},
     "output_type": "execute_result"
    }
   ],
   "source": [
    "df02.head()"
   ]
  },
  {
   "cell_type": "markdown",
   "metadata": {},
   "source": [
    "### df03  \n",
    "* Recurso: TOTAL-NACIO-DE-ACCES-48866  \n",
    "* Archivo: 03_intFijo_xBanda.csv  \n",
    "* Descripción: Total nacional de accesos a Internet fijo por banda ancha y banda angosta  \n",
    "* Detalle: Número total de accesos al servicio de Internet fijo por banda ancha y banda angosta (trimestral)  "
   ]
  },
  {
   "cell_type": "code",
   "execution_count": 9,
   "metadata": {},
   "outputs": [],
   "source": [
    "df03 = pd.read_csv('../dataset/03_intFijo_xBanda.csv', decimal=',', thousands='.')"
   ]
  },
  {
   "cell_type": "code",
   "execution_count": 10,
   "metadata": {},
   "outputs": [
    {
     "name": "stdout",
     "output_type": "stream",
     "text": [
      "<class 'pandas.core.frame.DataFrame'>\n",
      "RangeIndex: 35 entries, 0 to 34\n",
      "Data columns (total 7 columns):\n",
      " #   Column            Non-Null Count  Dtype \n",
      "---  ------            --------------  ----- \n",
      " 0   Año               35 non-null     int64 \n",
      " 1   Trimestre         35 non-null     int64 \n",
      " 2   Banda ancha fija  35 non-null     int64 \n",
      " 3   Dial up           35 non-null     int64 \n",
      " 4   Total             35 non-null     int64 \n",
      " 5   Periodo           35 non-null     object\n",
      " 6   AñoTrim           35 non-null     int64 \n",
      "dtypes: int64(6), object(1)\n",
      "memory usage: 2.0+ KB\n"
     ]
    }
   ],
   "source": [
    "df03['AñoTrim'] = df03['Año'] * 10 + df03['Trimestre']\n",
    "df03.info()"
   ]
  },
  {
   "cell_type": "markdown",
   "metadata": {},
   "source": [
    "### df04  \n",
    "* Recurso: BANDA-ANCHA-Y-BANDA-ANGOS  \n",
    "* Archivo: 04_intFijo_xBanda_xProv.csv  \n",
    "* Descripción: Accesos a banda ancha y banda angosta por provincia  \n",
    "* Detalle: Número de accesos al servicio de Internet fijo por banda ancha y banda angosta en cada provincia (trimestral) "
   ]
  },
  {
   "cell_type": "code",
   "execution_count": 11,
   "metadata": {},
   "outputs": [],
   "source": [
    "df04 = pd.read_csv('../dataset/04_intFijo_xBanda_xProv.csv', decimal=',', thousands='.')"
   ]
  },
  {
   "cell_type": "code",
   "execution_count": 12,
   "metadata": {},
   "outputs": [
    {
     "name": "stdout",
     "output_type": "stream",
     "text": [
      "<class 'pandas.core.frame.DataFrame'>\n",
      "RangeIndex: 840 entries, 0 to 839\n",
      "Data columns (total 7 columns):\n",
      " #   Column            Non-Null Count  Dtype \n",
      "---  ------            --------------  ----- \n",
      " 0   Año               840 non-null    int64 \n",
      " 1   Trimestre         840 non-null    int64 \n",
      " 2   Provincia         840 non-null    object\n",
      " 3   Banda ancha fija  840 non-null    int64 \n",
      " 4   Dial up           838 non-null    object\n",
      " 5   Total             840 non-null    int64 \n",
      " 6   AñoTrim           840 non-null    int64 \n",
      "dtypes: int64(5), object(2)\n",
      "memory usage: 46.1+ KB\n"
     ]
    }
   ],
   "source": [
    "df04['AñoTrim'] = df04['Año'] * 10 + df04['Trimestre']\n",
    "df04.info()"
   ]
  },
  {
   "cell_type": "markdown",
   "metadata": {},
   "source": [
    "### df05  \n",
    "* Recurso: SERIE-TRIME-DE-ACCES-A  \n",
    "* Archivo: 05_intAccesos_xTecnologia.csv  \n",
    "* Descripción: Serie trimestral de accesos a Internet fijo por tecnología  \n",
    "* Detalle: Número de accesos al servicio de Internet fijo por tipo de tecnología. Total nacional (trimestral)  "
   ]
  },
  {
   "cell_type": "code",
   "execution_count": 13,
   "metadata": {},
   "outputs": [],
   "source": [
    "df05 = pd.read_csv('../dataset/05_intAccesos_xTecnologia.csv', decimal=',', thousands='.')"
   ]
  },
  {
   "cell_type": "code",
   "execution_count": 14,
   "metadata": {},
   "outputs": [
    {
     "name": "stdout",
     "output_type": "stream",
     "text": [
      "<class 'pandas.core.frame.DataFrame'>\n",
      "RangeIndex: 35 entries, 0 to 34\n",
      "Data columns (total 10 columns):\n",
      " #   Column        Non-Null Count  Dtype \n",
      "---  ------        --------------  ----- \n",
      " 0   Año           35 non-null     int64 \n",
      " 1   Trimestre     35 non-null     int64 \n",
      " 2   ADSL          35 non-null     int64 \n",
      " 3   Cablemodem    35 non-null     int64 \n",
      " 4   Fibra óptica  35 non-null     int64 \n",
      " 5   Wireless      35 non-null     int64 \n",
      " 6   Otros         35 non-null     int64 \n",
      " 7   Total         35 non-null     int64 \n",
      " 8   Periodo       35 non-null     object\n",
      " 9   AñoTrim       35 non-null     int64 \n",
      "dtypes: int64(9), object(1)\n",
      "memory usage: 2.9+ KB\n"
     ]
    }
   ],
   "source": [
    "df05['AñoTrim'] = df05['Año'] * 10 + df05['Trimestre']\n",
    "df05.info()"
   ]
  },
  {
   "cell_type": "code",
   "execution_count": 15,
   "metadata": {},
   "outputs": [
    {
     "data": {
      "text/html": [
       "<div>\n",
       "<style scoped>\n",
       "    .dataframe tbody tr th:only-of-type {\n",
       "        vertical-align: middle;\n",
       "    }\n",
       "\n",
       "    .dataframe tbody tr th {\n",
       "        vertical-align: top;\n",
       "    }\n",
       "\n",
       "    .dataframe thead th {\n",
       "        text-align: right;\n",
       "    }\n",
       "</style>\n",
       "<table border=\"1\" class=\"dataframe\">\n",
       "  <thead>\n",
       "    <tr style=\"text-align: right;\">\n",
       "      <th></th>\n",
       "      <th>Año</th>\n",
       "      <th>Trimestre</th>\n",
       "      <th>ADSL</th>\n",
       "      <th>Cablemodem</th>\n",
       "      <th>Fibra óptica</th>\n",
       "      <th>Wireless</th>\n",
       "      <th>Otros</th>\n",
       "      <th>Total</th>\n",
       "      <th>Periodo</th>\n",
       "      <th>AñoTrim</th>\n",
       "    </tr>\n",
       "  </thead>\n",
       "  <tbody>\n",
       "    <tr>\n",
       "      <th>0</th>\n",
       "      <td>2022</td>\n",
       "      <td>3</td>\n",
       "      <td>1395277</td>\n",
       "      <td>6031970</td>\n",
       "      <td>2871541</td>\n",
       "      <td>557110</td>\n",
       "      <td>235230</td>\n",
       "      <td>11091128</td>\n",
       "      <td>Jul-Sept 2022</td>\n",
       "      <td>20223</td>\n",
       "    </tr>\n",
       "  </tbody>\n",
       "</table>\n",
       "</div>"
      ],
      "text/plain": [
       "    Año  Trimestre     ADSL  Cablemodem  Fibra óptica  Wireless   Otros   \n",
       "0  2022          3  1395277     6031970       2871541    557110  235230  \\\n",
       "\n",
       "      Total        Periodo  AñoTrim  \n",
       "0  11091128  Jul-Sept 2022    20223  "
      ]
     },
     "execution_count": 15,
     "metadata": {},
     "output_type": "execute_result"
    }
   ],
   "source": [
    "df05[df05['AñoTrim']==20223]"
   ]
  },
  {
   "cell_type": "code",
   "execution_count": 16,
   "metadata": {},
   "outputs": [],
   "source": [
    "#df05_brief = df05[['AñoTrim', 'ADSL', 'Cablemodem']]\n",
    "df05_brief = df05[['Año', 'AñoTrim', 'ADSL', 'Cablemodem', 'Fibra óptica', 'Wireless', 'Otros']]"
   ]
  },
  {
   "cell_type": "code",
   "execution_count": 17,
   "metadata": {},
   "outputs": [
    {
     "data": {
      "text/plain": [
       "<seaborn.axisgrid.PairGrid at 0x1d4fbe8e910>"
      ]
     },
     "execution_count": 17,
     "metadata": {},
     "output_type": "execute_result"
    },
    {
     "data": {
      "image/png": "[encoded data removed]",
      "text/plain": [
       "<Figure size 1750x1750 with 56 Axes>"
      ]
     },
     "metadata": {},
     "output_type": "display_data"
    }
   ],
   "source": [
    "sns.pairplot(data=df05_brief)"
   ]
  },
  {
   "cell_type": "markdown",
   "metadata": {},
   "source": [
    "### df08  \n",
    "* Recurso: VELOC-PROME-DE-BAJAD-DE  \n",
    "* Archivo: 08_intVelocidad_promedio.csv  \n",
    "* Descripción: Velocidad Media de bajada de Internet fijo  \n",
    "* Detalle: Serie histórica de la velocidad media de descarga de Internet nacional (trimestral)  "
   ]
  },
  {
   "cell_type": "code",
   "execution_count": 18,
   "metadata": {},
   "outputs": [],
   "source": [
    "df08 = pd.read_csv('../dataset/08_intVelocidad_promedio.csv', decimal=',', thousands='.')"
   ]
  },
  {
   "cell_type": "code",
   "execution_count": 19,
   "metadata": {},
   "outputs": [
    {
     "name": "stdout",
     "output_type": "stream",
     "text": [
      "<class 'pandas.core.frame.DataFrame'>\n",
      "RangeIndex: 35 entries, 0 to 34\n",
      "Data columns (total 5 columns):\n",
      " #   Column                  Non-Null Count  Dtype  \n",
      "---  ------                  --------------  -----  \n",
      " 0   Año                     35 non-null     int64  \n",
      " 1   Trimestre               35 non-null     int64  \n",
      " 2   Mbps (Media de bajada)  35 non-null     float64\n",
      " 3   Trimestre.1             35 non-null     object \n",
      " 4   AñoTrim                 35 non-null     int64  \n",
      "dtypes: float64(1), int64(3), object(1)\n",
      "memory usage: 1.5+ KB\n"
     ]
    }
   ],
   "source": [
    "df08['AñoTrim'] = df08['Año'] * 10 + df08['Trimestre']\n",
    "df08.info()"
   ]
  },
  {
   "cell_type": "markdown",
   "metadata": {},
   "source": [
    "### df11  \n",
    "* Recurso: ACCES-A-INTER-FIJO-23248  \n",
    "* Archivo: 11_intAccesos_xVelocidad.csv  \n",
    "* Descripción: Acceso a Internet Fijo por rangos de velocidad de bajada y provincia  \n",
    "* Detalle: Número de accesos al servicio de Internet fijo por velocidad de bajada en cada provincia (trimestral) "
   ]
  },
  {
   "cell_type": "code",
   "execution_count": 20,
   "metadata": {},
   "outputs": [],
   "source": [
    "df11 = pd.read_csv('../dataset/11_intAccesos_xVelocidad.csv', decimal=',', thousands='.')"
   ]
  },
  {
   "cell_type": "code",
   "execution_count": 21,
   "metadata": {},
   "outputs": [
    {
     "name": "stdout",
     "output_type": "stream",
     "text": [
      "<class 'pandas.core.frame.DataFrame'>\n",
      "RangeIndex: 840 entries, 0 to 839\n",
      "Data columns (total 13 columns):\n",
      " #   Column               Non-Null Count  Dtype  \n",
      "---  ------               --------------  -----  \n",
      " 0   Año                  840 non-null    int64  \n",
      " 1   Trimestre            840 non-null    int64  \n",
      " 2   Provincia            840 non-null    object \n",
      " 3   HASTA 512 kbps       840 non-null    int64  \n",
      " 4   + 512 Kbps - 1 Mbps  840 non-null    int64  \n",
      " 5   + 1 Mbps - 6 Mbps    840 non-null    int64  \n",
      " 6   + 6 Mbps - 10 Mbps   840 non-null    int64  \n",
      " 7   + 10 Mbps - 20 Mbps  840 non-null    int64  \n",
      " 8   + 20 Mbps - 30 Mbps  840 non-null    int64  \n",
      " 9   + 30 Mbps            840 non-null    int64  \n",
      " 10  OTROS                834 non-null    float64\n",
      " 11  Total                840 non-null    int64  \n",
      " 12  AñoTrim              840 non-null    int64  \n",
      "dtypes: float64(1), int64(11), object(1)\n",
      "memory usage: 85.4+ KB\n"
     ]
    }
   ],
   "source": [
    "df11['AñoTrim'] = df11['Año'] * 10 + df11['Trimestre']\n",
    "df11.info()"
   ]
  },
  {
   "cell_type": "code",
   "execution_count": 22,
   "metadata": {},
   "outputs": [
    {
     "name": "stdout",
     "output_type": "stream",
     "text": [
      "bw_hasta_10M: 2443016\n",
      "bw_10_a_30M: 1303327\n",
      "bw_desde_30M: 7344785.0\n",
      "GrandTotal: 11091128.0\n"
     ]
    }
   ],
   "source": [
    "df11['bw_hasta_10M'] = df11['HASTA 512 kbps'] + df11['+ 512 Kbps - 1 Mbps'] + df11['+ 1 Mbps - 6 Mbps'] \\\n",
    "                       + df11['+ 6 Mbps - 10 Mbps']\n",
    "df11['bw_10_a_30M'] = df11['+ 10 Mbps - 20 Mbps'] + df11['+ 20 Mbps - 30 Mbps']\n",
    "df11['bw_desde_30M'] = df11['+ 30 Mbps'] + df11['OTROS']\n",
    "df11['GrandTotal'] = round(df11['bw_hasta_10M'] + df11['bw_10_a_30M'] + df11['bw_desde_30M'], 0)\n",
    "\n",
    "print('bw_hasta_10M:', df11[df11['AñoTrim']==20223]['bw_hasta_10M'].sum())\n",
    "print('bw_10_a_30M:', df11[df11['AñoTrim']==20223]['bw_10_a_30M'].sum())\n",
    "print('bw_desde_30M:', df11[df11['AñoTrim']==20223]['bw_desde_30M'].sum())\n",
    "print('GrandTotal:', df11[df11['AñoTrim']==20223]['GrandTotal'].sum())"
   ]
  },
  {
   "cell_type": "code",
   "execution_count": 23,
   "metadata": {},
   "outputs": [
    {
     "data": {
      "text/html": [
       "<div>\n",
       "<style scoped>\n",
       "    .dataframe tbody tr th:only-of-type {\n",
       "        vertical-align: middle;\n",
       "    }\n",
       "\n",
       "    .dataframe tbody tr th {\n",
       "        vertical-align: top;\n",
       "    }\n",
       "\n",
       "    .dataframe thead th {\n",
       "        text-align: right;\n",
       "    }\n",
       "</style>\n",
       "<table border=\"1\" class=\"dataframe\">\n",
       "  <thead>\n",
       "    <tr style=\"text-align: right;\">\n",
       "      <th></th>\n",
       "      <th>Año</th>\n",
       "      <th>Trimestre</th>\n",
       "      <th>Provincia</th>\n",
       "      <th>HASTA 512 kbps</th>\n",
       "      <th>+ 512 Kbps - 1 Mbps</th>\n",
       "      <th>+ 1 Mbps - 6 Mbps</th>\n",
       "      <th>+ 6 Mbps - 10 Mbps</th>\n",
       "      <th>+ 10 Mbps - 20 Mbps</th>\n",
       "      <th>+ 20 Mbps - 30 Mbps</th>\n",
       "      <th>+ 30 Mbps</th>\n",
       "      <th>OTROS</th>\n",
       "      <th>Total</th>\n",
       "      <th>AñoTrim</th>\n",
       "      <th>bw_hasta_10M</th>\n",
       "      <th>bw_10_a_30M</th>\n",
       "      <th>bw_desde_30M</th>\n",
       "      <th>GrandTotal</th>\n",
       "    </tr>\n",
       "  </thead>\n",
       "  <tbody>\n",
       "    <tr>\n",
       "      <th>0</th>\n",
       "      <td>2022</td>\n",
       "      <td>3</td>\n",
       "      <td>Buenos Aires</td>\n",
       "      <td>29985</td>\n",
       "      <td>27709</td>\n",
       "      <td>290315</td>\n",
       "      <td>297915</td>\n",
       "      <td>267044</td>\n",
       "      <td>124190</td>\n",
       "      <td>3618689</td>\n",
       "      <td>65821.0</td>\n",
       "      <td>4721668</td>\n",
       "      <td>20223</td>\n",
       "      <td>645924</td>\n",
       "      <td>391234</td>\n",
       "      <td>3684510.0</td>\n",
       "      <td>4721668.0</td>\n",
       "    </tr>\n",
       "    <tr>\n",
       "      <th>1</th>\n",
       "      <td>2022</td>\n",
       "      <td>3</td>\n",
       "      <td>Capital Federal</td>\n",
       "      <td>517</td>\n",
       "      <td>5742</td>\n",
       "      <td>34371</td>\n",
       "      <td>67829</td>\n",
       "      <td>51946</td>\n",
       "      <td>28692</td>\n",
       "      <td>1253105</td>\n",
       "      <td>105477.0</td>\n",
       "      <td>1547679</td>\n",
       "      <td>20223</td>\n",
       "      <td>108459</td>\n",
       "      <td>80638</td>\n",
       "      <td>1358582.0</td>\n",
       "      <td>1547679.0</td>\n",
       "    </tr>\n",
       "    <tr>\n",
       "      <th>2</th>\n",
       "      <td>2022</td>\n",
       "      <td>3</td>\n",
       "      <td>Catamarca</td>\n",
       "      <td>71</td>\n",
       "      <td>384</td>\n",
       "      <td>3107</td>\n",
       "      <td>5389</td>\n",
       "      <td>5099</td>\n",
       "      <td>3737</td>\n",
       "      <td>50298</td>\n",
       "      <td>2208.0</td>\n",
       "      <td>70293</td>\n",
       "      <td>20223</td>\n",
       "      <td>8951</td>\n",
       "      <td>8836</td>\n",
       "      <td>52506.0</td>\n",
       "      <td>70293.0</td>\n",
       "    </tr>\n",
       "    <tr>\n",
       "      <th>3</th>\n",
       "      <td>2022</td>\n",
       "      <td>3</td>\n",
       "      <td>Chaco</td>\n",
       "      <td>461</td>\n",
       "      <td>987</td>\n",
       "      <td>16782</td>\n",
       "      <td>18938</td>\n",
       "      <td>8049</td>\n",
       "      <td>15828</td>\n",
       "      <td>79390</td>\n",
       "      <td>3711.0</td>\n",
       "      <td>144146</td>\n",
       "      <td>20223</td>\n",
       "      <td>37168</td>\n",
       "      <td>23877</td>\n",
       "      <td>83101.0</td>\n",
       "      <td>144146.0</td>\n",
       "    </tr>\n",
       "    <tr>\n",
       "      <th>4</th>\n",
       "      <td>2022</td>\n",
       "      <td>3</td>\n",
       "      <td>Chubut</td>\n",
       "      <td>109</td>\n",
       "      <td>1444</td>\n",
       "      <td>45707</td>\n",
       "      <td>30940</td>\n",
       "      <td>34682</td>\n",
       "      <td>15309</td>\n",
       "      <td>17563</td>\n",
       "      <td>20024.0</td>\n",
       "      <td>165778</td>\n",
       "      <td>20223</td>\n",
       "      <td>78200</td>\n",
       "      <td>49991</td>\n",
       "      <td>37587.0</td>\n",
       "      <td>165778.0</td>\n",
       "    </tr>\n",
       "  </tbody>\n",
       "</table>\n",
       "</div>"
      ],
      "text/plain": [
       "    Año  Trimestre        Provincia  HASTA 512 kbps  + 512 Kbps - 1 Mbps   \n",
       "0  2022          3     Buenos Aires           29985                27709  \\\n",
       "1  2022          3  Capital Federal             517                 5742   \n",
       "2  2022          3        Catamarca              71                  384   \n",
       "3  2022          3            Chaco             461                  987   \n",
       "4  2022          3           Chubut             109                 1444   \n",
       "\n",
       "   + 1 Mbps - 6 Mbps  + 6 Mbps - 10 Mbps  + 10 Mbps - 20 Mbps   \n",
       "0             290315              297915               267044  \\\n",
       "1              34371               67829                51946   \n",
       "2               3107                5389                 5099   \n",
       "3              16782               18938                 8049   \n",
       "4              45707               30940                34682   \n",
       "\n",
       "   + 20 Mbps - 30 Mbps  + 30 Mbps     OTROS    Total  AñoTrim  bw_hasta_10M   \n",
       "0               124190    3618689   65821.0  4721668    20223        645924  \\\n",
       "1                28692    1253105  105477.0  1547679    20223        108459   \n",
       "2                 3737      50298    2208.0    70293    20223          8951   \n",
       "3                15828      79390    3711.0   144146    20223         37168   \n",
       "4                15309      17563   20024.0   165778    20223         78200   \n",
       "\n",
       "   bw_10_a_30M  bw_desde_30M  GrandTotal  \n",
       "0       391234     3684510.0   4721668.0  \n",
       "1        80638     1358582.0   1547679.0  \n",
       "2         8836       52506.0     70293.0  \n",
       "3        23877       83101.0    144146.0  \n",
       "4        49991       37587.0    165778.0  "
      ]
     },
     "execution_count": 23,
     "metadata": {},
     "output_type": "execute_result"
    }
   ],
   "source": [
    "df11.head()"
   ]
  },
  {
   "cell_type": "code",
   "execution_count": 24,
   "metadata": {},
   "outputs": [
    {
     "data": {
      "text/plain": [
       "Año                            2022\n",
       "Trimestre                         3\n",
       "Provincia              Buenos Aires\n",
       "HASTA 512 kbps                29985\n",
       "+ 512 Kbps - 1 Mbps           27709\n",
       "+ 1 Mbps - 6 Mbps            290315\n",
       "+ 6 Mbps - 10 Mbps           297915\n",
       "+ 10 Mbps - 20 Mbps          267044\n",
       "+ 20 Mbps - 30 Mbps          124190\n",
       "+ 30 Mbps                   3618689\n",
       "OTROS                       65821.0\n",
       "Total                       4721668\n",
       "AñoTrim                       20223\n",
       "bw_hasta_10M                 645924\n",
       "bw_10_a_30M                  391234\n",
       "bw_desde_30M              3684510.0\n",
       "GrandTotal                4721668.0\n",
       "Name: 0, dtype: object"
      ]
     },
     "execution_count": 24,
     "metadata": {},
     "output_type": "execute_result"
    }
   ],
   "source": [
    "df11.iloc[0]"
   ]
  },
  {
   "cell_type": "code",
   "execution_count": 25,
   "metadata": {},
   "outputs": [
    {
     "data": {
      "text/html": [
       "<div>\n",
       "<style scoped>\n",
       "    .dataframe tbody tr th:only-of-type {\n",
       "        vertical-align: middle;\n",
       "    }\n",
       "\n",
       "    .dataframe tbody tr th {\n",
       "        vertical-align: top;\n",
       "    }\n",
       "\n",
       "    .dataframe thead th {\n",
       "        text-align: right;\n",
       "    }\n",
       "</style>\n",
       "<table border=\"1\" class=\"dataframe\">\n",
       "  <thead>\n",
       "    <tr style=\"text-align: right;\">\n",
       "      <th></th>\n",
       "      <th>Año</th>\n",
       "      <th>Trimestre</th>\n",
       "      <th>Provincia</th>\n",
       "      <th>AñoTrim</th>\n",
       "      <th>bw_hasta_10M</th>\n",
       "      <th>bw_10_a_30M</th>\n",
       "      <th>bw_desde_30M</th>\n",
       "      <th>GrandTotal</th>\n",
       "    </tr>\n",
       "  </thead>\n",
       "  <tbody>\n",
       "    <tr>\n",
       "      <th>0</th>\n",
       "      <td>2022</td>\n",
       "      <td>3</td>\n",
       "      <td>Buenos Aires</td>\n",
       "      <td>20223</td>\n",
       "      <td>645924</td>\n",
       "      <td>391234</td>\n",
       "      <td>3684510.0</td>\n",
       "      <td>4721668.0</td>\n",
       "    </tr>\n",
       "    <tr>\n",
       "      <th>1</th>\n",
       "      <td>2022</td>\n",
       "      <td>3</td>\n",
       "      <td>Capital Federal</td>\n",
       "      <td>20223</td>\n",
       "      <td>108459</td>\n",
       "      <td>80638</td>\n",
       "      <td>1358582.0</td>\n",
       "      <td>1547679.0</td>\n",
       "    </tr>\n",
       "    <tr>\n",
       "      <th>2</th>\n",
       "      <td>2022</td>\n",
       "      <td>3</td>\n",
       "      <td>Catamarca</td>\n",
       "      <td>20223</td>\n",
       "      <td>8951</td>\n",
       "      <td>8836</td>\n",
       "      <td>52506.0</td>\n",
       "      <td>70293.0</td>\n",
       "    </tr>\n",
       "    <tr>\n",
       "      <th>3</th>\n",
       "      <td>2022</td>\n",
       "      <td>3</td>\n",
       "      <td>Chaco</td>\n",
       "      <td>20223</td>\n",
       "      <td>37168</td>\n",
       "      <td>23877</td>\n",
       "      <td>83101.0</td>\n",
       "      <td>144146.0</td>\n",
       "    </tr>\n",
       "    <tr>\n",
       "      <th>4</th>\n",
       "      <td>2022</td>\n",
       "      <td>3</td>\n",
       "      <td>Chubut</td>\n",
       "      <td>20223</td>\n",
       "      <td>78200</td>\n",
       "      <td>49991</td>\n",
       "      <td>37587.0</td>\n",
       "      <td>165778.0</td>\n",
       "    </tr>\n",
       "  </tbody>\n",
       "</table>\n",
       "</div>"
      ],
      "text/plain": [
       "    Año  Trimestre        Provincia  AñoTrim  bw_hasta_10M  bw_10_a_30M   \n",
       "0  2022          3     Buenos Aires    20223        645924       391234  \\\n",
       "1  2022          3  Capital Federal    20223        108459        80638   \n",
       "2  2022          3        Catamarca    20223          8951         8836   \n",
       "3  2022          3            Chaco    20223         37168        23877   \n",
       "4  2022          3           Chubut    20223         78200        49991   \n",
       "\n",
       "   bw_desde_30M  GrandTotal  \n",
       "0     3684510.0   4721668.0  \n",
       "1     1358582.0   1547679.0  \n",
       "2       52506.0     70293.0  \n",
       "3       83101.0    144146.0  \n",
       "4       37587.0    165778.0  "
      ]
     },
     "execution_count": 25,
     "metadata": {},
     "output_type": "execute_result"
    }
   ],
   "source": [
    "df11_brief = df11[['Año', 'Trimestre', 'Provincia', 'AñoTrim', 'bw_hasta_10M', 'bw_10_a_30M', 'bw_desde_30M', 'GrandTotal']]\n",
    "df11_brief.head()"
   ]
  },
  {
   "cell_type": "code",
   "execution_count": null,
   "metadata": {},
   "outputs": [],
   "source": [
    "df11_brief.to_csv('nombre_del_archivo.csv', index=False)"
   ]
  },
  {
   "cell_type": "markdown",
   "metadata": {},
   "source": [
    "### df13  \n",
    "* Recurso: INGRE-TRIME-POR-LA-PREST  \n",
    "* Archivo: 13_intIngresos_trimestral.csv  \n",
    "* Descripción: Ingresos trimestrales por la prestación del servicio de Internet fijo  \n",
    "* Detalle: Ingresos trimestrales de los operadores por el servicio de Internet fijo "
   ]
  },
  {
   "cell_type": "code",
   "execution_count": 26,
   "metadata": {},
   "outputs": [],
   "source": [
    "df13 = pd.read_csv('../dataset/13_intIngresos_trimestral.csv', decimal=',', thousands='.')"
   ]
  },
  {
   "cell_type": "code",
   "execution_count": 27,
   "metadata": {},
   "outputs": [
    {
     "name": "stdout",
     "output_type": "stream",
     "text": [
      "<class 'pandas.core.frame.DataFrame'>\n",
      "RangeIndex: 39 entries, 0 to 38\n",
      "Data columns (total 5 columns):\n",
      " #   Column                 Non-Null Count  Dtype \n",
      "---  ------                 --------------  ----- \n",
      " 0   Año                    39 non-null     int64 \n",
      " 1   Trimestre              39 non-null     int64 \n",
      " 2   Ingresos (miles de $)  39 non-null     object\n",
      " 3   Periodo                39 non-null     object\n",
      " 4   AñoTrim                39 non-null     int64 \n",
      "dtypes: int64(3), object(2)\n",
      "memory usage: 1.7+ KB\n"
     ]
    }
   ],
   "source": [
    "df13['AñoTrim'] = df13['Año'] * 10 + df13['Trimestre']\n",
    "df13.info()"
   ]
  },
  {
   "cell_type": "markdown",
   "metadata": {},
   "source": [
    "### df14   \n",
    "* Recurso: ACCES-A-INTER-FIJO-16249  \n",
    "* Archivo: 141_intAccesos_xVeloc_xProv.csv  \n",
    "* Descripción: Accesos a Internet fijo por velocidad de bajada y localidad  \n",
    "* Detalle: Número de accesos al servicio de Internet fijo por velocidad de bajada en cada localidad declarada "
   ]
  },
  {
   "cell_type": "code",
   "execution_count": 28,
   "metadata": {},
   "outputs": [],
   "source": [
    "df141 = pd.read_csv('../dataset/141_intAccesos_xVeloc_xProv.csv', delimiter=';', decimal=',', thousands='.')"
   ]
  },
  {
   "cell_type": "code",
   "execution_count": 29,
   "metadata": {},
   "outputs": [],
   "source": [
    "df14 = df141.fillna(0)"
   ]
  },
  {
   "cell_type": "code",
   "execution_count": 30,
   "metadata": {},
   "outputs": [
    {
     "name": "stdout",
     "output_type": "stream",
     "text": [
      "bw_hasta_10M: 2443016.0\n"
     ]
    }
   ],
   "source": [
    "df14['bw_hasta_10M'] = df14['0,256 mbps'] + df14['0,375 mbps'] + df14['0,5 mbps'] + df14['0,512 mbps'] + df14['0,625 mbps'] \\\n",
    "                        + df14['0,75 mbps'] + df14['1 mbps'] + df14['1,25 mbps'] + df14['1,5 mbps'] + df14['2 mbps'] \\\n",
    "                        + df14['2,2 mbps'] + df14['2,5 mbps'] + df14['3 mbps'] + df14['3,3 mbps'] + df14['3,5 mbps'] \\\n",
    "                        + df14['4 mbps'] + df14['4,5 mbps'] + df14['5 mbps'] + df14['6 mbps'] + df14['6,4 mbps'] \\\n",
    "                        + df14['7 mbps'] + df14['7,5 mbps'] + df14['8 mbps'] + df14['9 mbps'] + df14['10 mbps']\n",
    "\n",
    "\n",
    "print('bw_hasta_10M:', df14['bw_hasta_10M'].sum())"
   ]
  },
  {
   "cell_type": "code",
   "execution_count": null,
   "metadata": {},
   "outputs": [
    {
     "name": "stdout",
     "output_type": "stream",
     "text": [
      "bw_10_a_30M: 1073654.0\n"
     ]
    }
   ],
   "source": [
    "'''\n",
    "df14['bw_10_a_30M'] = df14['11 mbps'] + df14['12 mbps'] + df14['13 mbps'] + df14['14 mbps'] + df14['15 mbps'] \\\n",
    "                        + df14['16 mbps'] + df14['17 mbps'] + df14['18 mbps'] + df14['19 mbps'] + df14['20 mbps'] \\\n",
    "                        + df14['21 mbps'] + df14['22 mbps'] + df14['23 mbps'] + df14['24 mbps'] + df14['25 mbps'] \\\n",
    "                        + df14['25,1 mbps'] + df14['25,11 mbps'] + df14['25,5 mbps'] + df14['26 mbps']\n",
    "\n",
    "print('bw_10_a_30M:', df14['bw_10_a_30M'].sum())\n",
    "'''"
   ]
  },
  {
   "cell_type": "code",
   "execution_count": 31,
   "metadata": {},
   "outputs": [],
   "source": [
    "df14['bw_10_a_100M'] = df14['11 mbps'] + df14['12 mbps'] + df14['13 mbps'] + df14['14 mbps'] + df14['15 mbps'] \\\n",
    "                        + df14['16 mbps'] + df14['17 mbps'] + df14['18 mbps'] + df14['19 mbps'] + df14['20 mbps'] \\\n",
    "                        + df14['21 mbps'] + df14['22 mbps'] + df14['23 mbps'] + df14['24 mbps'] + df14['25 mbps'] \\\n",
    "                        + df14['25,1 mbps'] + df14['25,11 mbps'] + df14['25,5 mbps'] + df14['26 mbps'] + df14['30 mbps'] \\\n",
    "                        + df14['31 mbps'] + df14['32 mbps'] + df14['34 mbps'] + df14['35 mbps'] + df14['36 mbps'] \\\n",
    "                        + df14['38 mbps'] + df14['39 mbps'] + df14['40 mbps'] + df14['41 mbps'] + df14['45 mbps'] \\\n",
    "                        + df14['46 mbps'] + df14['49 mbps'] + df14['50 mbps'] + df14['55 mbps'] +  df14['58 mbps'] \\\n",
    "                        + df14['59 mbps'] + df14['60 mbps'] + df14['61 mbps'] + df14['62 mbps'] + df14['64 mbps'] \\\n",
    "                        + df14['65 mbps'] + df14['66 mbps'] + df14['70 mbps'] + df14['75 mbps'] + df14['78 mbps'] \\\n",
    "                        + df14['80 mbps'] + df14['82 mbps'] + df14['83 mbps'] + df14['85 mbps'] + df14['90 mbps'] \\\n",
    "                        + df14['92 mbps'] + df14['95 mbps'] + df14['100 mbps']          "
   ]
  },
  {
   "cell_type": "code",
   "execution_count": 32,
   "metadata": {},
   "outputs": [],
   "source": [
    "df14['bw_desde_100M'] = df14['Otros'] + df14['110 mbps'] + df14['120 mbps'] + df14['122 mbps'] + df14['125 mbps'] \\\n",
    "                        + df14['126 mbps'] + df14['140 mbps'] + df14['150 mbps'] + df14['158 mbps'] + df14['160 mbps'] \\\n",
    "                        + df14['164 mbps'] + df14['200 mbps'] + df14['212 mbps'] + df14['220 mbps'] + df14['225 mbps'] \\\n",
    "                        + df14['234 mbps'] + df14['240 mbps'] + df14['250 mbps'] + df14['256 mbps'] + df14['275 mbps'] \\\n",
    "                        + df14['300 mbps'] + df14['325 mbps'] + df14['340 mbps'] + df14['400 mbps'] + df14['450 mbps'] \\\n",
    "                        + df14['480 mbps'] + df14['500 mbps'] + df14['512 mbps'] + df14['520 mbps'] + df14['600 mbps'] \\\n",
    "                        + df14['680 mbps'] + df14['700 mbps'] + df14['800 mbps'] + df14['850 mbps'] + df14['900 mbps'] \\\n",
    "                        + df14['1000 mbps'] + df14['1024 mbps']"
   ]
  },
  {
   "cell_type": "code",
   "execution_count": null,
   "metadata": {},
   "outputs": [
    {
     "name": "stdout",
     "output_type": "stream",
     "text": [
      "bw_desde_30M: 7574458.0\n"
     ]
    }
   ],
   "source": [
    "'''\n",
    "df14['bw_desde_30M'] =    df14['31 mbps'] + df14['32 mbps'] + df14['34 mbps'] + df14['35 mbps'] + df14['36 mbps'] \\\n",
    "                        + df14['38 mbps'] + df14['39 mbps'] + df14['40 mbps'] + df14['41 mbps'] + df14['45 mbps'] \\\n",
    "                        + df14['46 mbps'] + df14['49 mbps'] + df14['50 mbps'] + df14['55 mbps'] +  df14['58 mbps'] \\\n",
    "                        + df14['59 mbps'] + df14['60 mbps'] + df14['61 mbps'] + df14['62 mbps'] + df14['64 mbps'] \\\n",
    "                        + df14['65 mbps'] + df14['66 mbps'] + df14['70 mbps'] + df14['75 mbps'] + df14['78 mbps'] \\\n",
    "                        + df14['80 mbps'] + df14['82 mbps'] + df14['83 mbps'] + df14['85 mbps'] + df14['90 mbps'] \\\n",
    "                        + df14['92 mbps'] + df14['95 mbps'] + df14['100 mbps'] + df14['110 mbps'] + df14['120 mbps'] \\\n",
    "                        + df14['122 mbps'] + df14['125 mbps'] + df14['126 mbps'] + df14['140 mbps'] + df14['150 mbps'] \\\n",
    "                        + df14['158 mbps'] + df14['160 mbps'] + df14['164 mbps'] + df14['200 mbps'] + df14['212 mbps'] \\\n",
    "                        + df14['220 mbps'] + df14['225 mbps'] + df14['234 mbps'] + df14['240 mbps'] + df14['250 mbps'] \\\n",
    "                        + df14['256 mbps'] + df14['275 mbps'] + df14['300 mbps'] + df14['325 mbps'] + df14['340 mbps'] \\\n",
    "                        + df14['400 mbps'] + df14['450 mbps'] + df14['480 mbps'] + df14['500 mbps'] + df14['512 mbps'] \\\n",
    "                        + df14['520 mbps'] + df14['600 mbps'] + df14['680 mbps'] + df14['700 mbps'] + df14['800 mbps'] \\\n",
    "                        + df14['850 mbps'] + df14['900 mbps'] + df14['1000 mbps'] + df14['1024 mbps'] + df14['Otros'] \\\n",
    "                        + df14['30 mbps']\n",
    "\n",
    "print('bw_desde_30M:', df14['bw_desde_30M'].sum())\n",
    "'''"
   ]
  },
  {
   "cell_type": "code",
   "execution_count": 33,
   "metadata": {},
   "outputs": [],
   "source": [
    "df14['GrandTotal'] = round(df14['bw_hasta_10M'] + df14['bw_10_a_100M'] + df14['bw_desde_100M'], 0)"
   ]
  },
  {
   "cell_type": "code",
   "execution_count": null,
   "metadata": {},
   "outputs": [
    {
     "name": "stdout",
     "output_type": "stream",
     "text": [
      "GrandTotal: 11091128.0\n"
     ]
    }
   ],
   "source": [
    "'''\n",
    "df14['GrandTotal'] = round(df14['bw_hasta_10M'] + df14['bw_10_a_30M'] + df14['bw_desde_30M'], 0)\n",
    "print('GrandTotal:', df14['GrandTotal'].sum())\n",
    "'''"
   ]
  },
  {
   "cell_type": "code",
   "execution_count": 34,
   "metadata": {},
   "outputs": [],
   "source": [
    "df14_brief = df14[['Provincia', 'Partido', 'Localidad', 'bw_hasta_10M', 'bw_10_a_100M', 'bw_desde_100M', 'GrandTotal']]"
   ]
  },
  {
   "cell_type": "code",
   "execution_count": 35,
   "metadata": {},
   "outputs": [
    {
     "name": "stdout",
     "output_type": "stream",
     "text": [
      "<class 'pandas.core.frame.DataFrame'>\n",
      "RangeIndex: 3099 entries, 0 to 3098\n",
      "Data columns (total 7 columns):\n",
      " #   Column         Non-Null Count  Dtype  \n",
      "---  ------         --------------  -----  \n",
      " 0   Provincia      3099 non-null   object \n",
      " 1   Partido        3099 non-null   object \n",
      " 2   Localidad      3099 non-null   object \n",
      " 3   bw_hasta_10M   3099 non-null   float64\n",
      " 4   bw_10_a_100M   3099 non-null   float64\n",
      " 5   bw_desde_100M  3099 non-null   float64\n",
      " 6   GrandTotal     3099 non-null   float64\n",
      "dtypes: float64(4), object(3)\n",
      "memory usage: 169.6+ KB\n"
     ]
    }
   ],
   "source": [
    "df14_brief.info()"
   ]
  },
  {
   "cell_type": "code",
   "execution_count": 36,
   "metadata": {},
   "outputs": [
    {
     "data": {
      "text/html": [
       "<div>\n",
       "<style scoped>\n",
       "    .dataframe tbody tr th:only-of-type {\n",
       "        vertical-align: middle;\n",
       "    }\n",
       "\n",
       "    .dataframe tbody tr th {\n",
       "        vertical-align: top;\n",
       "    }\n",
       "\n",
       "    .dataframe thead th {\n",
       "        text-align: right;\n",
       "    }\n",
       "</style>\n",
       "<table border=\"1\" class=\"dataframe\">\n",
       "  <thead>\n",
       "    <tr style=\"text-align: right;\">\n",
       "      <th></th>\n",
       "      <th>bw_hasta_10M</th>\n",
       "      <th>bw_10_a_100M</th>\n",
       "      <th>bw_desde_100M</th>\n",
       "      <th>GrandTotal</th>\n",
       "    </tr>\n",
       "  </thead>\n",
       "  <tbody>\n",
       "    <tr>\n",
       "      <th>count</th>\n",
       "      <td>3099.000000</td>\n",
       "      <td>3.099000e+03</td>\n",
       "      <td>3099.000000</td>\n",
       "      <td>3.099000e+03</td>\n",
       "    </tr>\n",
       "    <tr>\n",
       "      <th>mean</th>\n",
       "      <td>788.323975</td>\n",
       "      <td>2.427476e+03</td>\n",
       "      <td>363.137786</td>\n",
       "      <td>3.578938e+03</td>\n",
       "    </tr>\n",
       "    <tr>\n",
       "      <th>std</th>\n",
       "      <td>3874.612993</td>\n",
       "      <td>2.340743e+04</td>\n",
       "      <td>4569.946188</td>\n",
       "      <td>3.016903e+04</td>\n",
       "    </tr>\n",
       "    <tr>\n",
       "      <th>min</th>\n",
       "      <td>0.000000</td>\n",
       "      <td>0.000000e+00</td>\n",
       "      <td>-601.000000</td>\n",
       "      <td>-6.010000e+02</td>\n",
       "    </tr>\n",
       "    <tr>\n",
       "      <th>25%</th>\n",
       "      <td>6.000000</td>\n",
       "      <td>0.000000e+00</td>\n",
       "      <td>0.000000</td>\n",
       "      <td>2.500000e+01</td>\n",
       "    </tr>\n",
       "    <tr>\n",
       "      <th>50%</th>\n",
       "      <td>79.000000</td>\n",
       "      <td>2.000000e+00</td>\n",
       "      <td>0.000000</td>\n",
       "      <td>1.560000e+02</td>\n",
       "    </tr>\n",
       "    <tr>\n",
       "      <th>75%</th>\n",
       "      <td>470.500000</td>\n",
       "      <td>1.690000e+02</td>\n",
       "      <td>5.000000</td>\n",
       "      <td>1.029000e+03</td>\n",
       "    </tr>\n",
       "    <tr>\n",
       "      <th>max</th>\n",
       "      <td>109963.000000</td>\n",
       "      <td>1.113760e+06</td>\n",
       "      <td>220443.000000</td>\n",
       "      <td>1.442661e+06</td>\n",
       "    </tr>\n",
       "  </tbody>\n",
       "</table>\n",
       "</div>"
      ],
      "text/plain": [
       "        bw_hasta_10M  bw_10_a_100M  bw_desde_100M    GrandTotal\n",
       "count    3099.000000  3.099000e+03    3099.000000  3.099000e+03\n",
       "mean      788.323975  2.427476e+03     363.137786  3.578938e+03\n",
       "std      3874.612993  2.340743e+04    4569.946188  3.016903e+04\n",
       "min         0.000000  0.000000e+00    -601.000000 -6.010000e+02\n",
       "25%         6.000000  0.000000e+00       0.000000  2.500000e+01\n",
       "50%        79.000000  2.000000e+00       0.000000  1.560000e+02\n",
       "75%       470.500000  1.690000e+02       5.000000  1.029000e+03\n",
       "max    109963.000000  1.113760e+06  220443.000000  1.442661e+06"
      ]
     },
     "execution_count": 36,
     "metadata": {},
     "output_type": "execute_result"
    }
   ],
   "source": [
    "df14_brief.describe()"
   ]
  },
  {
   "cell_type": "code",
   "execution_count": 37,
   "metadata": {},
   "outputs": [
    {
     "name": "stdout",
     "output_type": "stream",
     "text": [
      "bw_hasta_10M: 2443016.0\n",
      "bw_10_a_100M: 7522748.0\n",
      "bw_desde_100M: 1125364.0\n",
      "GrandTotal: 11091128.0\n"
     ]
    }
   ],
   "source": [
    "print('bw_hasta_10M:', df14['bw_hasta_10M'].sum())\n",
    "print('bw_10_a_100M:', df14['bw_10_a_100M'].sum())\n",
    "print('bw_desde_100M:', df14['bw_desde_100M'].sum())\n",
    "print('GrandTotal:', df14['GrandTotal'].sum())"
   ]
  },
  {
   "cell_type": "code",
   "execution_count": null,
   "metadata": {},
   "outputs": [],
   "source": [
    "#df14_brief.to_csv('../dataset/14_brief_intAccesos_xVelocidad.csv', index=False)"
   ]
  },
  {
   "cell_type": "markdown",
   "metadata": {},
   "source": [
    "### df16  \n",
    "* Recurso: LISTA-DE-LOCAL-CON-CONEC  \n",
    "* Archivo: 16_intLocalidades_xTipoAcceso.csv  \n",
    "* Descripción: Listado de localidades con conectividad a internet.  \n",
    "* Detalle: Listado de localidades con conectividad a internet, con detalle por tipo de conexión."
   ]
  },
  {
   "cell_type": "code",
   "execution_count": 38,
   "metadata": {},
   "outputs": [],
   "source": [
    "df16 = pd.read_csv('../dataset/16_intLocalidades_xTipoAcceso.csv', decimal=',', thousands='.')"
   ]
  },
  {
   "cell_type": "code",
   "execution_count": 39,
   "metadata": {},
   "outputs": [
    {
     "name": "stdout",
     "output_type": "stream",
     "text": [
      "<class 'pandas.core.frame.DataFrame'>\n",
      "RangeIndex: 4312 entries, 0 to 4311\n",
      "Data columns (total 12 columns):\n",
      " #   Column         Non-Null Count  Dtype \n",
      "---  ------         --------------  ----- \n",
      " 0   Provincia      4312 non-null   object\n",
      " 1   Partido        4312 non-null   object\n",
      " 2   Localidad      4312 non-null   object\n",
      " 3   ADSL           4312 non-null   object\n",
      " 4   CABLEMODEM     4312 non-null   object\n",
      " 5   DIALUP         4312 non-null   object\n",
      " 6   FIBRAOPTICA    4312 non-null   object\n",
      " 7   4G             4312 non-null   object\n",
      " 8   3G             4312 non-null   object\n",
      " 9   TELEFONIAFIJA  4312 non-null   object\n",
      " 10  WIRELESS       4312 non-null   object\n",
      " 11  SATELITAL      4312 non-null   object\n",
      "dtypes: object(12)\n",
      "memory usage: 404.4+ KB\n"
     ]
    }
   ],
   "source": [
    "df16.info()"
   ]
  },
  {
   "cell_type": "code",
   "execution_count": 40,
   "metadata": {},
   "outputs": [
    {
     "data": {
      "text/html": [
       "<div>\n",
       "<style scoped>\n",
       "    .dataframe tbody tr th:only-of-type {\n",
       "        vertical-align: middle;\n",
       "    }\n",
       "\n",
       "    .dataframe tbody tr th {\n",
       "        vertical-align: top;\n",
       "    }\n",
       "\n",
       "    .dataframe thead th {\n",
       "        text-align: right;\n",
       "    }\n",
       "</style>\n",
       "<table border=\"1\" class=\"dataframe\">\n",
       "  <thead>\n",
       "    <tr style=\"text-align: right;\">\n",
       "      <th></th>\n",
       "      <th>Provincia</th>\n",
       "      <th>Partido</th>\n",
       "      <th>Localidad</th>\n",
       "      <th>ADSL</th>\n",
       "      <th>CABLEMODEM</th>\n",
       "      <th>DIALUP</th>\n",
       "      <th>FIBRAOPTICA</th>\n",
       "      <th>4G</th>\n",
       "      <th>3G</th>\n",
       "      <th>TELEFONIAFIJA</th>\n",
       "      <th>WIRELESS</th>\n",
       "      <th>SATELITAL</th>\n",
       "    </tr>\n",
       "  </thead>\n",
       "  <tbody>\n",
       "    <tr>\n",
       "      <th>0</th>\n",
       "      <td>BUENOS AIRES</td>\n",
       "      <td>Bahía Blanca</td>\n",
       "      <td>Villa Bordeau</td>\n",
       "      <td>--</td>\n",
       "      <td>--</td>\n",
       "      <td>--</td>\n",
       "      <td>--</td>\n",
       "      <td>SI</td>\n",
       "      <td>SI</td>\n",
       "      <td>--</td>\n",
       "      <td>--</td>\n",
       "      <td>--</td>\n",
       "    </tr>\n",
       "    <tr>\n",
       "      <th>1</th>\n",
       "      <td>BUENOS AIRES</td>\n",
       "      <td>Bahía Blanca</td>\n",
       "      <td>Villa Espora</td>\n",
       "      <td>--</td>\n",
       "      <td>--</td>\n",
       "      <td>--</td>\n",
       "      <td>--</td>\n",
       "      <td>--</td>\n",
       "      <td>--</td>\n",
       "      <td>--</td>\n",
       "      <td>--</td>\n",
       "      <td>--</td>\n",
       "    </tr>\n",
       "    <tr>\n",
       "      <th>2</th>\n",
       "      <td>BUENOS AIRES</td>\n",
       "      <td>Balcarce</td>\n",
       "      <td>Balcarce</td>\n",
       "      <td>SI</td>\n",
       "      <td>SI</td>\n",
       "      <td>SI</td>\n",
       "      <td>SI</td>\n",
       "      <td>SI</td>\n",
       "      <td>SI</td>\n",
       "      <td>SI</td>\n",
       "      <td>SI</td>\n",
       "      <td>--</td>\n",
       "    </tr>\n",
       "    <tr>\n",
       "      <th>3</th>\n",
       "      <td>BUENOS AIRES</td>\n",
       "      <td>Balcarce</td>\n",
       "      <td>Los Pinos</td>\n",
       "      <td>--</td>\n",
       "      <td>--</td>\n",
       "      <td>--</td>\n",
       "      <td>--</td>\n",
       "      <td>--</td>\n",
       "      <td>--</td>\n",
       "      <td>SI</td>\n",
       "      <td>SI</td>\n",
       "      <td>--</td>\n",
       "    </tr>\n",
       "    <tr>\n",
       "      <th>4</th>\n",
       "      <td>BUENOS AIRES</td>\n",
       "      <td>Balcarce</td>\n",
       "      <td>Napaleofú</td>\n",
       "      <td>--</td>\n",
       "      <td>--</td>\n",
       "      <td>--</td>\n",
       "      <td>SI</td>\n",
       "      <td>SI</td>\n",
       "      <td>SI</td>\n",
       "      <td>SI</td>\n",
       "      <td>SI</td>\n",
       "      <td>--</td>\n",
       "    </tr>\n",
       "  </tbody>\n",
       "</table>\n",
       "</div>"
      ],
      "text/plain": [
       "      Provincia       Partido      Localidad ADSL CABLEMODEM DIALUP   \n",
       "0  BUENOS AIRES  Bahía Blanca  Villa Bordeau   --         --     --  \\\n",
       "1  BUENOS AIRES  Bahía Blanca   Villa Espora   --         --     --   \n",
       "2  BUENOS AIRES      Balcarce       Balcarce   SI         SI     SI   \n",
       "3  BUENOS AIRES      Balcarce      Los Pinos   --         --     --   \n",
       "4  BUENOS AIRES      Balcarce      Napaleofú   --         --     --   \n",
       "\n",
       "  FIBRAOPTICA  4G  3G TELEFONIAFIJA WIRELESS SATELITAL  \n",
       "0          --  SI  SI            --       --        --  \n",
       "1          --  --  --            --       --        --  \n",
       "2          SI  SI  SI            SI       SI        --  \n",
       "3          --  --  --            SI       SI        --  \n",
       "4          SI  SI  SI            SI       SI        --  "
      ]
     },
     "execution_count": 40,
     "metadata": {},
     "output_type": "execute_result"
    }
   ],
   "source": [
    "df16.head()"
   ]
  },
  {
   "cell_type": "code",
   "execution_count": 41,
   "metadata": {},
   "outputs": [
    {
     "data": {
      "text/plain": [
       "['Provincia',\n",
       " 'Partido',\n",
       " 'Localidad',\n",
       " 'ADSL',\n",
       " 'CABLEMODEM',\n",
       " 'DIALUP',\n",
       " 'FIBRAOPTICA',\n",
       " '4G',\n",
       " '3G',\n",
       " 'TELEFONIAFIJA',\n",
       " 'WIRELESS',\n",
       " 'SATELITAL']"
      ]
     },
     "execution_count": 41,
     "metadata": {},
     "output_type": "execute_result"
    }
   ],
   "source": [
    "list(df16.columns)"
   ]
  },
  {
   "cell_type": "code",
   "execution_count": 42,
   "metadata": {},
   "outputs": [],
   "source": [
    "df16 = df16.fillna('None')"
   ]
  },
  {
   "cell_type": "code",
   "execution_count": 43,
   "metadata": {},
   "outputs": [
    {
     "data": {
      "text/html": [
       "<div>\n",
       "<style scoped>\n",
       "    .dataframe tbody tr th:only-of-type {\n",
       "        vertical-align: middle;\n",
       "    }\n",
       "\n",
       "    .dataframe tbody tr th {\n",
       "        vertical-align: top;\n",
       "    }\n",
       "\n",
       "    .dataframe thead th {\n",
       "        text-align: right;\n",
       "    }\n",
       "</style>\n",
       "<table border=\"1\" class=\"dataframe\">\n",
       "  <thead>\n",
       "    <tr style=\"text-align: right;\">\n",
       "      <th></th>\n",
       "      <th>Provincia</th>\n",
       "      <th>Partido</th>\n",
       "      <th>Localidad</th>\n",
       "      <th>ADSL</th>\n",
       "      <th>CABLEMODEM</th>\n",
       "      <th>DIALUP</th>\n",
       "      <th>FIBRAOPTICA</th>\n",
       "      <th>4G</th>\n",
       "      <th>3G</th>\n",
       "      <th>TELEFONIAFIJA</th>\n",
       "      <th>WIRELESS</th>\n",
       "      <th>SATELITAL</th>\n",
       "      <th>TipoAcceso</th>\n",
       "    </tr>\n",
       "  </thead>\n",
       "  <tbody>\n",
       "    <tr>\n",
       "      <th>0</th>\n",
       "      <td>BUENOS AIRES</td>\n",
       "      <td>Bahía Blanca</td>\n",
       "      <td>Villa Bordeau</td>\n",
       "      <td>--</td>\n",
       "      <td>--</td>\n",
       "      <td>--</td>\n",
       "      <td>--</td>\n",
       "      <td>SI</td>\n",
       "      <td>SI</td>\n",
       "      <td>--</td>\n",
       "      <td>--</td>\n",
       "      <td>--</td>\n",
       "      <td>[4G, 3G]</td>\n",
       "    </tr>\n",
       "    <tr>\n",
       "      <th>1</th>\n",
       "      <td>BUENOS AIRES</td>\n",
       "      <td>Bahía Blanca</td>\n",
       "      <td>Villa Espora</td>\n",
       "      <td>--</td>\n",
       "      <td>--</td>\n",
       "      <td>--</td>\n",
       "      <td>--</td>\n",
       "      <td>--</td>\n",
       "      <td>--</td>\n",
       "      <td>--</td>\n",
       "      <td>--</td>\n",
       "      <td>--</td>\n",
       "      <td>[ninguno]</td>\n",
       "    </tr>\n",
       "    <tr>\n",
       "      <th>2</th>\n",
       "      <td>BUENOS AIRES</td>\n",
       "      <td>Balcarce</td>\n",
       "      <td>Balcarce</td>\n",
       "      <td>SI</td>\n",
       "      <td>SI</td>\n",
       "      <td>SI</td>\n",
       "      <td>SI</td>\n",
       "      <td>SI</td>\n",
       "      <td>SI</td>\n",
       "      <td>SI</td>\n",
       "      <td>SI</td>\n",
       "      <td>--</td>\n",
       "      <td>[ADSL, CABLEMODEM, DIALUP, FIBRAOPTICA, 4G, 3G...</td>\n",
       "    </tr>\n",
       "    <tr>\n",
       "      <th>3</th>\n",
       "      <td>BUENOS AIRES</td>\n",
       "      <td>Balcarce</td>\n",
       "      <td>Los Pinos</td>\n",
       "      <td>--</td>\n",
       "      <td>--</td>\n",
       "      <td>--</td>\n",
       "      <td>--</td>\n",
       "      <td>--</td>\n",
       "      <td>--</td>\n",
       "      <td>SI</td>\n",
       "      <td>SI</td>\n",
       "      <td>--</td>\n",
       "      <td>[TELEFONIAFIJA, WIRELESS]</td>\n",
       "    </tr>\n",
       "    <tr>\n",
       "      <th>4</th>\n",
       "      <td>BUENOS AIRES</td>\n",
       "      <td>Balcarce</td>\n",
       "      <td>Napaleofú</td>\n",
       "      <td>--</td>\n",
       "      <td>--</td>\n",
       "      <td>--</td>\n",
       "      <td>SI</td>\n",
       "      <td>SI</td>\n",
       "      <td>SI</td>\n",
       "      <td>SI</td>\n",
       "      <td>SI</td>\n",
       "      <td>--</td>\n",
       "      <td>[FIBRAOPTICA, 4G, 3G, TELEFONIAFIJA, WIRELESS]</td>\n",
       "    </tr>\n",
       "  </tbody>\n",
       "</table>\n",
       "</div>"
      ],
      "text/plain": [
       "      Provincia       Partido      Localidad ADSL CABLEMODEM DIALUP   \n",
       "0  BUENOS AIRES  Bahía Blanca  Villa Bordeau   --         --     --  \\\n",
       "1  BUENOS AIRES  Bahía Blanca   Villa Espora   --         --     --   \n",
       "2  BUENOS AIRES      Balcarce       Balcarce   SI         SI     SI   \n",
       "3  BUENOS AIRES      Balcarce      Los Pinos   --         --     --   \n",
       "4  BUENOS AIRES      Balcarce      Napaleofú   --         --     --   \n",
       "\n",
       "  FIBRAOPTICA  4G  3G TELEFONIAFIJA WIRELESS SATELITAL   \n",
       "0          --  SI  SI            --       --        --  \\\n",
       "1          --  --  --            --       --        --   \n",
       "2          SI  SI  SI            SI       SI        --   \n",
       "3          --  --  --            SI       SI        --   \n",
       "4          SI  SI  SI            SI       SI        --   \n",
       "\n",
       "                                          TipoAcceso  \n",
       "0                                           [4G, 3G]  \n",
       "1                                          [ninguno]  \n",
       "2  [ADSL, CABLEMODEM, DIALUP, FIBRAOPTICA, 4G, 3G...  \n",
       "3                          [TELEFONIAFIJA, WIRELESS]  \n",
       "4     [FIBRAOPTICA, 4G, 3G, TELEFONIAFIJA, WIRELESS]  "
      ]
     },
     "execution_count": 43,
     "metadata": {},
     "output_type": "execute_result"
    }
   ],
   "source": [
    "# Función para obtener una lista de tipos de acceso si el contenido es 'SI'\n",
    "def obtener_tipos_acceso(row):\n",
    "    headers = list(df16.columns)\n",
    "    tipos_acceso = []\n",
    "    for header in headers:\n",
    "        if row[header] == 'SI':\n",
    "            tipos_acceso.append(header)\n",
    "    return tipos_acceso if tipos_acceso else ['ninguno']\n",
    "\n",
    "df16['TipoAcceso'] = df16.apply(obtener_tipos_acceso, axis=1)\n",
    "df16.head()"
   ]
  },
  {
   "cell_type": "code",
   "execution_count": 44,
   "metadata": {},
   "outputs": [
    {
     "data": {
      "text/plain": [
       "0                                                [4G, 3G]\n",
       "2       [ADSL, CABLEMODEM, DIALUP, FIBRAOPTICA, 4G, 3G...\n",
       "4          [FIBRAOPTICA, 4G, 3G, TELEFONIAFIJA, WIRELESS]\n",
       "7                       [4G, 3G, TELEFONIAFIJA, WIRELESS]\n",
       "8       [ADSL, CABLEMODEM, FIBRAOPTICA, 4G, 3G, TELEFO...\n",
       "                              ...                        \n",
       "4306    [ADSL, CABLEMODEM, FIBRAOPTICA, 4G, 3G, TELEFO...\n",
       "4307    [ADSL, FIBRAOPTICA, 4G, 3G, TELEFONIAFIJA, WIR...\n",
       "4309    [ADSL, CABLEMODEM, FIBRAOPTICA, 4G, 3G, TELEFO...\n",
       "4310    [ADSL, CABLEMODEM, 4G, 3G, TELEFONIAFIJA, WIRE...\n",
       "4311                                             [4G, 3G]\n",
       "Name: TipoAcceso, Length: 1833, dtype: object"
      ]
     },
     "execution_count": 44,
     "metadata": {},
     "output_type": "execute_result"
    }
   ],
   "source": [
    "df16[df16['TipoAcceso'].apply(lambda x: '3G' in x and '4G' in x)]['TipoAcceso']"
   ]
  },
  {
   "cell_type": "markdown",
   "metadata": {},
   "source": [
    "### df17  \n",
    "* Recurso: CONEC-AL-SERVI-DE-INTER  \n",
    "* Archivo: 17_intLocalidades_tecnologias.csv  \n",
    "* Descripción: Conectividad al servicio de Internet  \n",
    "* Detalle: Consulta las tecnologías disponibles en tu localidad para acceder al servicio de Internet fijo y móvil"
   ]
  },
  {
   "cell_type": "code",
   "execution_count": 45,
   "metadata": {},
   "outputs": [],
   "source": [
    "df17 = pd.read_csv('../dataset/17_intLocalidades_tecnologias.csv', decimal=',', thousands='.')"
   ]
  },
  {
   "cell_type": "code",
   "execution_count": 46,
   "metadata": {},
   "outputs": [
    {
     "name": "stdout",
     "output_type": "stream",
     "text": [
      "<class 'pandas.core.frame.DataFrame'>\n",
      "RangeIndex: 4312 entries, 0 to 4311\n",
      "Data columns (total 16 columns):\n",
      " #   Column         Non-Null Count  Dtype  \n",
      "---  ------         --------------  -----  \n",
      " 0   Provincia      4312 non-null   object \n",
      " 1   Partido        4312 non-null   object \n",
      " 2   Localidad      4312 non-null   object \n",
      " 3   Poblacion      4312 non-null   int64  \n",
      " 4   ADSL           4312 non-null   object \n",
      " 5   CABLEMODEM     4312 non-null   object \n",
      " 6   DIALUP         4312 non-null   object \n",
      " 7   FIBRAOPTICA    4312 non-null   object \n",
      " 8   SATELITAL      4312 non-null   object \n",
      " 9   WIRELESS       4312 non-null   object \n",
      " 10  TELEFONIAFIJA  4312 non-null   object \n",
      " 11  3G             4312 non-null   object \n",
      " 12  4G             4312 non-null   object \n",
      " 13  link           4300 non-null   float64\n",
      " 14  Latitud        4312 non-null   float64\n",
      " 15  Longitud       4312 non-null   float64\n",
      "dtypes: float64(3), int64(1), object(12)\n",
      "memory usage: 539.1+ KB\n"
     ]
    }
   ],
   "source": [
    "df17.info()"
   ]
  },
  {
   "cell_type": "code",
   "execution_count": 47,
   "metadata": {},
   "outputs": [
    {
     "data": {
      "text/html": [
       "<div>\n",
       "<style scoped>\n",
       "    .dataframe tbody tr th:only-of-type {\n",
       "        vertical-align: middle;\n",
       "    }\n",
       "\n",
       "    .dataframe tbody tr th {\n",
       "        vertical-align: top;\n",
       "    }\n",
       "\n",
       "    .dataframe thead th {\n",
       "        text-align: right;\n",
       "    }\n",
       "</style>\n",
       "<table border=\"1\" class=\"dataframe\">\n",
       "  <thead>\n",
       "    <tr style=\"text-align: right;\">\n",
       "      <th></th>\n",
       "      <th>Provincia</th>\n",
       "      <th>Partido</th>\n",
       "      <th>Localidad</th>\n",
       "      <th>Poblacion</th>\n",
       "      <th>ADSL</th>\n",
       "      <th>CABLEMODEM</th>\n",
       "      <th>DIALUP</th>\n",
       "      <th>FIBRAOPTICA</th>\n",
       "      <th>SATELITAL</th>\n",
       "      <th>WIRELESS</th>\n",
       "      <th>TELEFONIAFIJA</th>\n",
       "      <th>3G</th>\n",
       "      <th>4G</th>\n",
       "      <th>link</th>\n",
       "      <th>Latitud</th>\n",
       "      <th>Longitud</th>\n",
       "      <th>Tecnologias</th>\n",
       "    </tr>\n",
       "  </thead>\n",
       "  <tbody>\n",
       "    <tr>\n",
       "      <th>0</th>\n",
       "      <td>BUENOS AIRES</td>\n",
       "      <td>Bahía Blanca</td>\n",
       "      <td>Villa Bordeau</td>\n",
       "      <td>0</td>\n",
       "      <td>--</td>\n",
       "      <td>--</td>\n",
       "      <td>--</td>\n",
       "      <td>--</td>\n",
       "      <td>--</td>\n",
       "      <td>--</td>\n",
       "      <td>--</td>\n",
       "      <td>SI</td>\n",
       "      <td>SI</td>\n",
       "      <td>6056020.0</td>\n",
       "      <td>-38.647261</td>\n",
       "      <td>-62.320022</td>\n",
       "      <td>[3G, 4G]</td>\n",
       "    </tr>\n",
       "    <tr>\n",
       "      <th>1</th>\n",
       "      <td>BUENOS AIRES</td>\n",
       "      <td>Bahía Blanca</td>\n",
       "      <td>Villa Espora</td>\n",
       "      <td>0</td>\n",
       "      <td>--</td>\n",
       "      <td>--</td>\n",
       "      <td>--</td>\n",
       "      <td>--</td>\n",
       "      <td>--</td>\n",
       "      <td>--</td>\n",
       "      <td>--</td>\n",
       "      <td>--</td>\n",
       "      <td>--</td>\n",
       "      <td>6056020.0</td>\n",
       "      <td>-38.776507</td>\n",
       "      <td>-62.185183</td>\n",
       "      <td>[ninguno]</td>\n",
       "    </tr>\n",
       "    <tr>\n",
       "      <th>2</th>\n",
       "      <td>BUENOS AIRES</td>\n",
       "      <td>Balcarce</td>\n",
       "      <td>Balcarce</td>\n",
       "      <td>38376</td>\n",
       "      <td>SI</td>\n",
       "      <td>SI</td>\n",
       "      <td>SI</td>\n",
       "      <td>SI</td>\n",
       "      <td>--</td>\n",
       "      <td>SI</td>\n",
       "      <td>SI</td>\n",
       "      <td>SI</td>\n",
       "      <td>SI</td>\n",
       "      <td>6063010.0</td>\n",
       "      <td>-37.848278</td>\n",
       "      <td>-58.255167</td>\n",
       "      <td>[ADSL, CABLEMODEM, DIALUP, FIBRAOPTICA, WIRELE...</td>\n",
       "    </tr>\n",
       "    <tr>\n",
       "      <th>3</th>\n",
       "      <td>BUENOS AIRES</td>\n",
       "      <td>Balcarce</td>\n",
       "      <td>Los Pinos</td>\n",
       "      <td>337</td>\n",
       "      <td>--</td>\n",
       "      <td>--</td>\n",
       "      <td>--</td>\n",
       "      <td>--</td>\n",
       "      <td>--</td>\n",
       "      <td>SI</td>\n",
       "      <td>SI</td>\n",
       "      <td>--</td>\n",
       "      <td>--</td>\n",
       "      <td>6063020.0</td>\n",
       "      <td>-37.941206</td>\n",
       "      <td>-58.322592</td>\n",
       "      <td>[WIRELESS, TELEFONIAFIJA]</td>\n",
       "    </tr>\n",
       "    <tr>\n",
       "      <th>4</th>\n",
       "      <td>BUENOS AIRES</td>\n",
       "      <td>Balcarce</td>\n",
       "      <td>Napaleofú</td>\n",
       "      <td>374</td>\n",
       "      <td>--</td>\n",
       "      <td>--</td>\n",
       "      <td>--</td>\n",
       "      <td>SI</td>\n",
       "      <td>--</td>\n",
       "      <td>SI</td>\n",
       "      <td>SI</td>\n",
       "      <td>SI</td>\n",
       "      <td>SI</td>\n",
       "      <td>6063030.0</td>\n",
       "      <td>-37.625498</td>\n",
       "      <td>-58.746186</td>\n",
       "      <td>[FIBRAOPTICA, WIRELESS, TELEFONIAFIJA, 3G, 4G]</td>\n",
       "    </tr>\n",
       "  </tbody>\n",
       "</table>\n",
       "</div>"
      ],
      "text/plain": [
       "      Provincia       Partido      Localidad  Poblacion ADSL CABLEMODEM   \n",
       "0  BUENOS AIRES  Bahía Blanca  Villa Bordeau          0   --         --  \\\n",
       "1  BUENOS AIRES  Bahía Blanca   Villa Espora          0   --         --   \n",
       "2  BUENOS AIRES      Balcarce       Balcarce      38376   SI         SI   \n",
       "3  BUENOS AIRES      Balcarce      Los Pinos        337   --         --   \n",
       "4  BUENOS AIRES      Balcarce      Napaleofú        374   --         --   \n",
       "\n",
       "  DIALUP FIBRAOPTICA SATELITAL WIRELESS TELEFONIAFIJA  3G  4G       link   \n",
       "0     --          --        --       --            --  SI  SI  6056020.0  \\\n",
       "1     --          --        --       --            --  --  --  6056020.0   \n",
       "2     SI          SI        --       SI            SI  SI  SI  6063010.0   \n",
       "3     --          --        --       SI            SI  --  --  6063020.0   \n",
       "4     --          SI        --       SI            SI  SI  SI  6063030.0   \n",
       "\n",
       "     Latitud   Longitud                                        Tecnologias  \n",
       "0 -38.647261 -62.320022                                           [3G, 4G]  \n",
       "1 -38.776507 -62.185183                                          [ninguno]  \n",
       "2 -37.848278 -58.255167  [ADSL, CABLEMODEM, DIALUP, FIBRAOPTICA, WIRELE...  \n",
       "3 -37.941206 -58.322592                          [WIRELESS, TELEFONIAFIJA]  \n",
       "4 -37.625498 -58.746186     [FIBRAOPTICA, WIRELESS, TELEFONIAFIJA, 3G, 4G]  "
      ]
     },
     "execution_count": 47,
     "metadata": {},
     "output_type": "execute_result"
    }
   ],
   "source": [
    "# Función para obtener una lista de tipos de acceso si el contenido es 'SI'\n",
    "def obtener_tipos_acceso(row):\n",
    "    headers = list(df17.columns)\n",
    "    tipos_acceso = []\n",
    "    for header in headers:\n",
    "        if row[header] == 'SI':\n",
    "            tipos_acceso.append(header)\n",
    "    return tipos_acceso if tipos_acceso else ['ninguno']\n",
    "\n",
    "df17['Tecnologias'] = df17.apply(obtener_tipos_acceso, axis=1)\n",
    "df17.head()"
   ]
  },
  {
   "cell_type": "code",
   "execution_count": 48,
   "metadata": {},
   "outputs": [
    {
     "data": {
      "text/html": [
       "<div>\n",
       "<style scoped>\n",
       "    .dataframe tbody tr th:only-of-type {\n",
       "        vertical-align: middle;\n",
       "    }\n",
       "\n",
       "    .dataframe tbody tr th {\n",
       "        vertical-align: top;\n",
       "    }\n",
       "\n",
       "    .dataframe thead th {\n",
       "        text-align: right;\n",
       "    }\n",
       "</style>\n",
       "<table border=\"1\" class=\"dataframe\">\n",
       "  <thead>\n",
       "    <tr style=\"text-align: right;\">\n",
       "      <th></th>\n",
       "      <th>Provincia</th>\n",
       "      <th>Localidad</th>\n",
       "      <th>Tecnologias</th>\n",
       "    </tr>\n",
       "  </thead>\n",
       "  <tbody>\n",
       "    <tr>\n",
       "      <th>0</th>\n",
       "      <td>BUENOS AIRES</td>\n",
       "      <td>Villa Bordeau</td>\n",
       "      <td>[3G, 4G]</td>\n",
       "    </tr>\n",
       "    <tr>\n",
       "      <th>1</th>\n",
       "      <td>BUENOS AIRES</td>\n",
       "      <td>Villa Espora</td>\n",
       "      <td>[ninguno]</td>\n",
       "    </tr>\n",
       "    <tr>\n",
       "      <th>3</th>\n",
       "      <td>BUENOS AIRES</td>\n",
       "      <td>Los Pinos</td>\n",
       "      <td>[WIRELESS, TELEFONIAFIJA]</td>\n",
       "    </tr>\n",
       "    <tr>\n",
       "      <th>5</th>\n",
       "      <td>BUENOS AIRES</td>\n",
       "      <td>Ramos Otero</td>\n",
       "      <td>[WIRELESS, 4G]</td>\n",
       "    </tr>\n",
       "    <tr>\n",
       "      <th>6</th>\n",
       "      <td>BUENOS AIRES</td>\n",
       "      <td>San Agustín</td>\n",
       "      <td>[WIRELESS, TELEFONIAFIJA]</td>\n",
       "    </tr>\n",
       "    <tr>\n",
       "      <th>...</th>\n",
       "      <td>...</td>\n",
       "      <td>...</td>\n",
       "      <td>...</td>\n",
       "    </tr>\n",
       "    <tr>\n",
       "      <th>4303</th>\n",
       "      <td>CHACO</td>\n",
       "      <td>La Clotilde</td>\n",
       "      <td>[4G]</td>\n",
       "    </tr>\n",
       "    <tr>\n",
       "      <th>4304</th>\n",
       "      <td>CHACO</td>\n",
       "      <td>La Tigra</td>\n",
       "      <td>[4G]</td>\n",
       "    </tr>\n",
       "    <tr>\n",
       "      <th>4305</th>\n",
       "      <td>CHACO</td>\n",
       "      <td>San Bernardo</td>\n",
       "      <td>[3G, 4G]</td>\n",
       "    </tr>\n",
       "    <tr>\n",
       "      <th>4308</th>\n",
       "      <td>CHACO</td>\n",
       "      <td>Villa El Palmar</td>\n",
       "      <td>[WIRELESS, 4G]</td>\n",
       "    </tr>\n",
       "    <tr>\n",
       "      <th>4311</th>\n",
       "      <td>CHACO</td>\n",
       "      <td>Colonia Baranda</td>\n",
       "      <td>[3G, 4G]</td>\n",
       "    </tr>\n",
       "  </tbody>\n",
       "</table>\n",
       "<p>2630 rows × 3 columns</p>\n",
       "</div>"
      ],
      "text/plain": [
       "         Provincia        Localidad                Tecnologias\n",
       "0     BUENOS AIRES    Villa Bordeau                   [3G, 4G]\n",
       "1     BUENOS AIRES     Villa Espora                  [ninguno]\n",
       "3     BUENOS AIRES        Los Pinos  [WIRELESS, TELEFONIAFIJA]\n",
       "5     BUENOS AIRES      Ramos Otero             [WIRELESS, 4G]\n",
       "6     BUENOS AIRES      San Agustín  [WIRELESS, TELEFONIAFIJA]\n",
       "...            ...              ...                        ...\n",
       "4303         CHACO      La Clotilde                       [4G]\n",
       "4304         CHACO         La Tigra                       [4G]\n",
       "4305         CHACO     San Bernardo                   [3G, 4G]\n",
       "4308         CHACO  Villa El Palmar             [WIRELESS, 4G]\n",
       "4311         CHACO  Colonia Baranda                   [3G, 4G]\n",
       "\n",
       "[2630 rows x 3 columns]"
      ]
     },
     "execution_count": 48,
     "metadata": {},
     "output_type": "execute_result"
    }
   ],
   "source": [
    "df17[df17['Tecnologias'].apply(lambda x: 'CABLEMODEM' not in x and 'FIBRAOPTICA' not in x)][['Provincia', 'Localidad', 'Tecnologias']]"
   ]
  }
 ],
 "metadata": {
  "kernelspec": {
   "display_name": "Python 3",
   "language": "python",
   "name": "python3"
  },
  "language_info": {
   "codemirror_mode": {
    "name": "ipython",
    "version": 3
   },
   "file_extension": ".py",
   "mimetype": "text/x-python",
   "name": "python",
   "nbconvert_exporter": "python",
   "pygments_lexer": "ipython3",
   "version": "3.11.3"
  },
  "orig_nbformat": 4
 },
 "nbformat": 4,
 "nbformat_minor": 2
}
